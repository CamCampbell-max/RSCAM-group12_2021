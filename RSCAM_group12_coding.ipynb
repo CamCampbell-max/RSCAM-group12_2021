{
 "cells": [
  {
   "cell_type": "markdown",
   "metadata": {},
   "source": [
    "# First experiment"
   ]
  },
  {
   "cell_type": "code",
   "execution_count": 3,
   "metadata": {},
   "outputs": [],
   "source": [
    "import numpy as np\n",
    "import matplotlib.pyplot as plt\n",
    "\n",
    "# setting global parameters\n",
    "l = 1\n",
    "dt = 0.01\n",
    "w = 1/15\n",
    "A0 = 1/30\n",
    "z = 4\n",
    "\n",
    "# generate inital 128x128 grid\n",
    "X = np.array([128,128])\n",
    "X\n",
    "\n",
    "# case a \n",
    "eta = 0.2\n",
    "theta = 0.56\n",
    "gamma = 0.019\n",
    "\n",
    "# unsure about A_bar value\n",
    "A_bar = A0\n",
    "B_bar = theta * gamma/w\n",
    "n_bar = gamma * dt/(1-np.exp(-A_bar*dt))"
   ]
  },
  {
   "cell_type": "markdown",
   "metadata": {},
   "source": [
    "# Continuum Limit"
   ]
  },
  {
   "cell_type": "code",
   "execution_count": null,
   "metadata": {},
   "outputs": [],
   "source": []
  }
 ],
 "metadata": {
  "kernelspec": {
   "display_name": "Python 3",
   "language": "python",
   "name": "python3"
  },
  "language_info": {
   "codemirror_mode": {
    "name": "ipython",
    "version": 3
   },
   "file_extension": ".py",
   "mimetype": "text/x-python",
   "name": "python",
   "nbconvert_exporter": "python",
   "pygments_lexer": "ipython3",
   "version": "3.8.3"
  }
 },
 "nbformat": 4,
 "nbformat_minor": 4
}

{
 "cells": [
  {
   "cell_type": "markdown",
   "metadata": {},
   "source": [
    "# First experiment"
   ]
  },
  {
   "cell_type": "code",
   "execution_count": 1,
   "metadata": {},
   "outputs": [],
   "source": [
    "import numpy as np\n",
    "import matplotlib.pyplot as plt\n",
    "\n",
    "# setting global parameters\n",
    "l = 1\n",
    "dt = 0.01\n",
    "w = 1/15\n",
    "A0 = 1/30\n",
    "z = 4\n",
    "\n",
    "# generate inital 128x128 grid\n",
    "X = np.array([128,128])\n",
    "X\n",
    "\n",
    "# case a \n",
    "eta = 0.2\n",
    "theta = 0.56\n",
    "gamma = 0.019\n",
    "\n",
    "# unsure about A_bar value\n",
    "A_bar = A0\n",
    "B_bar = theta * gamma/w\n",
    "n_bar = gamma * dt/(1-np.exp(-A_bar*dt))"
   ]
  },
  {
   "cell_type": "markdown",
   "metadata": {},
   "source": [
    "# Continuum Limit"
   ]
  },
  {
   "cell_type": "code",
   "execution_count": 4,
   "metadata": {},
   "outputs": [],
   "source": [
    "import numpy as np\n",
    "\n",
    "# Computing f(A)\n",
    "def f_A(A, mu=1, h=1, dt=1):\n",
    "    n = A.shape[0]\n",
    "    \n",
    "    f = np.zeros([n,n])\n",
    "    \n",
    "    for i in range(1,n-1):\n",
    "        for j in range(1,n-1):\n",
    "            f[i,j] = ( mu*(1/A[i,j]) * (A[i+1,j] + A[i-1,j] - 4*A[i,j] + A[i,j+1] + A[i,j-1]) - \n",
    "                      (1/(4*h**2 * A[i,j]**2)) * (A[i+1,j] - A[i-1,j])**2 + (A[i,j+1] - A[i,j-1])**2\n",
    "                      + A[i,j] * dt )\n",
    "            \n",
    "            return f\n",
    "        \n"
   ]
  },
  {
   "cell_type": "code",
   "execution_count": 43,
   "metadata": {},
   "outputs": [
    {
     "data": {
      "text/plain": [
       "array([[65.25, -1.  ,  0.  , ...,  0.  ,  0.  ,  0.  ],\n",
       "       [-1.  , 65.25, -1.  , ...,  0.  ,  0.  ,  0.  ],\n",
       "       [ 0.  , -1.  , 65.25, ...,  0.  ,  0.  ,  0.  ],\n",
       "       ...,\n",
       "       [ 0.  ,  0.  ,  0.  , ..., 65.25, -1.  ,  0.  ],\n",
       "       [ 0.  ,  0.  ,  0.  , ..., -1.  , 65.25, -1.  ],\n",
       "       [ 0.  ,  0.  ,  0.  , ...,  0.  , -1.  , 65.25]])"
      ]
     },
     "execution_count": 43,
     "metadata": {},
     "output_type": "execute_result"
    }
   ],
   "source": [
    "# no internal nodes\n",
    "M = 8 - 2\n",
    "\n",
    "# poisson matrix length\n",
    "mat_len = M**2\n",
    "\n",
    "dt = 1/4\n",
    "h = 1/4\n",
    "w=1\n",
    "mu=1\n",
    "\n",
    "# construct B matrix L.H.S\n",
    "main_diag = np.ones(mat_len) * (1 + w*dt + 4*mu/(h**2))\n",
    "subdiag = np.ones(mat_len-1) * -1\n",
    "superdiag = np.ones(mat_len-1) * -1\n",
    "far_sub = np.ones(mat_len-M) * -1\n",
    "far_sup = np.ones(mat_len-M) * -1\n",
    "\n",
    "# assemble matrix\n",
    "B_L = ( np.diagflat(main_diag) + np.diagflat(subdiag, -1) + np.diagflat(superdiag, 1) \n",
    "       + np.diagflat(far_sub, -M) + np.diagflat(far_sup, M) )\n",
    "\n",
    "B_L"
   ]
  },
  {
   "cell_type": "code",
   "execution_count": 15,
   "metadata": {},
   "outputs": [
    {
     "data": {
      "text/plain": [
       "array([[   0.,    0.,    0., ...,    0.,    0.,    0.],\n",
       "       [   0., 1000.,    0., ...,    0.,    0.,    0.],\n",
       "       [   0.,    0.,    0., ...,    0.,    0.,    0.],\n",
       "       ...,\n",
       "       [   0.,    0.,    0., ...,    0.,    0.,    0.],\n",
       "       [   0.,    0.,    0., ...,    0.,    0.,    0.],\n",
       "       [   0.,    0.,    0., ...,    0.,    0.,    0.]])"
      ]
     },
     "execution_count": 15,
     "metadata": {},
     "output_type": "execute_result"
    }
   ],
   "source": [
    "a = np.array([[1,2,3], [4,5,6], [7,8,9]])\n",
    "\n",
    "b = 1000* np.ones([128,128])\n",
    "f_A(b, 0.25, 0.25)"
   ]
  }
 ],
 "metadata": {
  "kernelspec": {
   "display_name": "Python 3",
   "language": "python",
   "name": "python3"
  },
  "language_info": {
   "codemirror_mode": {
    "name": "ipython",
    "version": 3
   },
   "file_extension": ".py",
   "mimetype": "text/x-python",
   "name": "python",
   "nbconvert_exporter": "python",
   "pygments_lexer": "ipython3",
   "version": "3.8.3"
  }
 },
 "nbformat": 4,
 "nbformat_minor": 4
}
